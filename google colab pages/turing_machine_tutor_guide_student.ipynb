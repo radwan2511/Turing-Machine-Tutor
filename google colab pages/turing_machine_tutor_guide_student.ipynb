{
  "cells": [
    {
      "cell_type": "markdown",
      "metadata": {
        "id": "i7DT8Hbic-CM"
      },
      "source": [
        "# **First Install Package From Github**"
      ]
    },
    {
      "cell_type": "code",
      "execution_count": null,
      "metadata": {
        "id": "oEp1yac_dIa4"
      },
      "outputs": [],
      "source": [
        "!pip install \"git+https://github.com/Turing-Machine-Tutor/Turing-Machine-Tutor.git@main\""
      ]
    },
    {
      "cell_type": "markdown",
      "metadata": {
        "id": "gAHmt2TUZQXQ"
      },
      "source": [
        "# **Imports: dont touch**\n"
      ]
    },
    {
      "cell_type": "code",
      "execution_count": null,
      "metadata": {
        "id": "cxy9bqf8ZOnF"
      },
      "outputs": [],
      "source": [
        "from turing_machine_tutor.TuringMachine import TuringMachine\n",
        "from turing_machine_tutor.machine_run_state import Machine_Run_State\n",
        "from turing_machine_tutor.Next import Next\n",
        "from turing_machine_tutor.MultiNext import MultiNext\n",
        "from turing_machine_tutor.Call_Turing_Machine import Call_Turing_Machine\n",
        "from turing_machine_tutor.TuringMachineController import TuringMachineController\n",
        "from turing_machine_tutor.MultiTapeTuringMachine import MultiTapeTuringMachine\n",
        "\n",
        "controller = TuringMachineController()"
      ]
    },
    {
      "cell_type": "markdown",
      "metadata": {
        "id": "SdAlr7eKdTfc"
      },
      "source": [
        "# **For student**:"
      ]
    },
    {
      "cell_type": "markdown",
      "metadata": {
        "id": "zyJ5-YSCbnXE"
      },
      "source": [
        "Your main goal viewing all the availabe challenges and choosing one to work on.\n",
        "\n",
        "You can do that using the controller:\n",
        "\n",
        "**You don't need to define the function and to do add_challenge, this is done  by the TA, this is here just for the demonstration."
      ]
    },
    {
      "cell_type": "code",
      "execution_count": null,
      "metadata": {
        "colab": {
          "base_uri": "https://localhost:8080/"
        },
        "id": "mppR8PSteRLB",
        "outputId": "60da111e-142c-43bb-da1d-fa39b0c634b9"
      },
      "outputs": [
        {
          "output_type": "stream",
          "name": "stdout",
          "text": [
            "\n",
            "\n",
            "current available challenges:\n",
            "\n",
            "[1]turing machine name: 0n1n\n",
            "description: turing machine that accepts 0n1n\n",
            "\n"
          ]
        }
      ],
      "source": [
        "def is_0n1n(s):\n",
        "    if(len(s) < 2):\n",
        "        return False\n",
        "    elif(len(s) == 2 and s != \"01\"):\n",
        "        return False\n",
        "    elif(len(s) == 2 and s == \"01\"):\n",
        "        return True\n",
        "    st = s.split('01')\n",
        "    if(len(st) != 2):\n",
        "        return False\n",
        "    if(len(st[0]) != len(st[1])):\n",
        "        return False\n",
        "    for i in st[0]:\n",
        "        if i != '0':\n",
        "            return False\n",
        "    for i in st[1]:\n",
        "        if i != '1':\n",
        "            return False\n",
        "    return True\n",
        "\n",
        "controller.add_challenge(\"0n1n\",{'0', '1'},\"turing machine that accepts 0n1n\",is_0n1n,{\"02\",\"01\"});\n",
        "\n",
        "controller.get_challenges()"
      ]
    },
    {
      "cell_type": "markdown",
      "metadata": {
        "id": "7kiguzwTfwo6"
      },
      "source": [
        "You will choose which challenge you want to work on.\n",
        "\n",
        " Lets assume you want to work on 0n1n, your goal is to build a turing machine which language is 0n1n\n",
        "\n",
        "You have 2 options:\n",
        "\n",
        "1) Regular turing machine.\n",
        "\n",
        "2) Multitape turing machine."
      ]
    },
    {
      "cell_type": "markdown",
      "metadata": {
        "id": "Mw0912uFfIV3"
      },
      "source": [
        "# **Option 1 - building a regular turing machine object**:"
      ]
    },
    {
      "cell_type": "markdown",
      "metadata": {
        "id": "t54zrNvgf6GG"
      },
      "source": [
        "You need to use this format:\n",
        "\n",
        "\n",
        "    TuringMachine (\n",
        "\n",
        "    states:list<string>,\n",
        "\n",
        "    input_alphabet:list<string>,\n",
        "\n",
        "    tape_symbols:list<string>,\n",
        "\n",
        "    transitions:dict< tuple<string,string> , **next**>,\n",
        "\n",
        "    initial_state:string,\n",
        "\n",
        "    accept_states:list<string>\n",
        "\n",
        "    )\n",
        "\n",
        "**next is an object:\n",
        "\n",
        "    next(\n",
        "      \n",
        "        state:string\n",
        "\n",
        "        symbol:string\n",
        "\n",
        "        action:string\n",
        "\n",
        "      )\n",
        "\n",
        "\n",
        "\n",
        "In the code bellow there is an example of building a regular turing machine:\n",
        "\n",
        "**For clarity, this turing machine does not accept the language a^n b^n, you need to build it by yourself"
      ]
    },
    {
      "cell_type": "code",
      "execution_count": null,
      "metadata": {
        "id": "QRDOdjUrcNx-"
      },
      "outputs": [],
      "source": [
        "_0_pow_n_1_pow_n_TM = TuringMachine(\n",
        "            states={'q0', 'q1', 'q2', 'q3', 'q4', 'q5'},\n",
        "            input_alphabet={'0', '1'},\n",
        "            tape_symbols={'0', '1', 'X', 'Y', 'B'},\n",
        "            transitions={\n",
        "                ('q0', '0'): Next('q1', 'X', 'R'),  # Step 1 change 0 to X\n",
        "                ('q0', 'Y'): Next('q3', 'Y', 'R'),\n",
        "                ('q1', '0'): Next('q1', '0', 'R'),\n",
        "                ('q1', '1'): Next('q2', 'Y', 'L'),\n",
        "                ('q1', 'Y'): Next('q1', 'Y', 'R'),\n",
        "                ('q2', '0'): Next('q2', '0', 'L'),\n",
        "                ('q2', 'X'): Next('q0', 'X', 'R'),\n",
        "                ('q2', 'Y'): Next('q2', 'Y', 'L'),\n",
        "                ('q3', 'Y'): Next('q3', 'Y', 'R'),\n",
        "                ('q3', 'B'): Next('q4', 'B', 'L')\n",
        "            },\n",
        "            initial_state='q0',\n",
        "            accept_states={'q4'},\n",
        "            reject_states={'q5'}\n",
        "        )\n",
        "\n",
        "## after you build it you need to add it to the controller and give it the same name  that was given by the TA:\n",
        "\n",
        "controller.add_turing_machine('0n1n', _0_pow_n_1_pow_n_TM)\n",
        "\n"
      ]
    },
    {
      "cell_type": "markdown",
      "metadata": {
        "id": "7QIR5mMJmTE6"
      },
      "source": [
        "## Checking your TM.\n",
        "\n",
        "You have few options:\n",
        "\n"
      ]
    },
    {
      "cell_type": "markdown",
      "metadata": {
        "id": "bV3Z4AOkm9UI"
      },
      "source": [
        "#1) Run\n",
        "You can run a given word on the machine and see if it accepts or not, like this:\n",
        "\n",
        "controller.run_turing_machine(machine_name:string , word:string)"
      ]
    },
    {
      "cell_type": "code",
      "execution_count": null,
      "metadata": {
        "colab": {
          "base_uri": "https://localhost:8080/"
        },
        "id": "FHAQpLI8m9UI",
        "outputId": "21feb332-9cce-4e07-c107-3355db3c79aa"
      },
      "outputs": [
        {
          "output_type": "stream",
          "name": "stdout",
          "text": [
            "tape:= XXXXXYYYYYB\n",
            "accepted:= True\n",
            "state:= q4\n"
          ]
        }
      ],
      "source": [
        "mrs = controller.run_turing_machine('0n1n', '0000011111')"
      ]
    },
    {
      "cell_type": "markdown",
      "metadata": {
        "id": "ncfnjTYjm9UI"
      },
      "source": [
        "**mrs is an object\n",
        "\n",
        "It displays the current run state of the machine, the machine's tape, the machine's head_position, and the machine's state ('q0', 'q1', etc.).\n",
        "\n",
        "**Note:** Don't get confused by the word \"state\". There is an object `machine_run_state` and a state like 'q0', 'q1', etc.\n",
        "\n",
        "\n",
        "    Machine_Run_State(\n",
        "    \n",
        "        tape:list<string>\n",
        "        head_position:int\n",
        "        state:string\n",
        "\n",
        "    )\n",
        "\n"
      ]
    },
    {
      "cell_type": "markdown",
      "metadata": {
        "id": "fAQQgfs8fz8R"
      },
      "source": [
        "# 2) Visualize\n",
        "\n",
        "You can visualize a given word on the machine and see your machine coming to life, you can do it like this:\n",
        "\n",
        "controller.visualize(machine_name:string , word:string)\n"
      ]
    },
    {
      "cell_type": "code",
      "execution_count": null,
      "metadata": {
        "colab": {
          "base_uri": "https://localhost:8080/"
        },
        "id": "Fr6wW0yFj4Oo",
        "outputId": "99c2e478-89c0-4189-bc9e-314f3de5d4b9"
      },
      "outputs": [
        {
          "output_type": "stream",
          "name": "stdout",
          "text": [
            "reached accept state\n"
          ]
        }
      ],
      "source": [
        "controller.visualize('0n1n',\"000111\")"
      ]
    },
    {
      "cell_type": "markdown",
      "source": [
        "You can also delay the steps of the TM simply add delay number in seconds"
      ],
      "metadata": {
        "id": "PkG_KVqDzVtn"
      }
    },
    {
      "cell_type": "code",
      "source": [
        "controller.visualize('0n1n',\"01\",2)"
      ],
      "metadata": {
        "colab": {
          "base_uri": "https://localhost:8080/"
        },
        "id": "vW7lIpbuzZui",
        "outputId": "19a02de1-8fa9-4326-875d-f2b0b4789848"
      },
      "execution_count": null,
      "outputs": [
        {
          "output_type": "stream",
          "name": "stdout",
          "text": [
            "reached accept state\n"
          ]
        }
      ]
    },
    {
      "cell_type": "markdown",
      "metadata": {
        "id": "OXzwfgr_kNRE"
      },
      "source": [
        "# 3) Visualize step by step (debugging)\n",
        "\n",
        "You can visualize STEP BY STEP a given word on the machine and observe EACH STEP as much as you want. Hitting enter will proceed to the next step, and if you've had enough, you can type 'stop' to stop. You can do it like this:\n",
        "\n",
        "\n",
        "controller.visualize_step_by_step(machine_name:string , word:string)"
      ]
    },
    {
      "cell_type": "code",
      "execution_count": null,
      "metadata": {
        "colab": {
          "base_uri": "https://localhost:8080/"
        },
        "id": "Nrx3_8GVdka7",
        "outputId": "856e0110-e535-4f67-812b-f179c9aafd5a"
      },
      "outputs": [
        {
          "output_type": "stream",
          "name": "stdout",
          "text": [
            "reached accept state\n"
          ]
        }
      ],
      "source": [
        "controller.visualize_step_by_step('0n1n',\"01\")"
      ]
    },
    {
      "cell_type": "markdown",
      "metadata": {
        "id": "jlN3_AfHlUI_"
      },
      "source": [
        "# 4)Validate\n",
        "\n",
        "Validating your turing machine formally, and getting a feedback which tests you pass and which you failed.  You can do it like this:\n",
        "\n",
        "controller.validate_turing_machine(machine_name:string)\n"
      ]
    },
    {
      "cell_type": "code",
      "execution_count": null,
      "metadata": {
        "id": "xgQ6h4MClS1a"
      },
      "outputs": [],
      "source": [
        "controller.validate_turing_machine('0n1n',is_0n1n)"
      ]
    },
    {
      "cell_type": "code",
      "execution_count": null,
      "metadata": {
        "id": "yMze7ikhpvXm"
      },
      "outputs": [],
      "source": [
        "# Assume the TA added this to the challenges\n",
        "controller.validate_turing_machineTA('0n1n')"
      ]
    },
    {
      "cell_type": "markdown",
      "metadata": {
        "id": "du5x-SwAivc7"
      },
      "source": [
        "# Submitting\n",
        "\n",
        "When you have finished working on your machines and want to submit, just call the function submit from the controller, it will ask you for your ID and your work will be submitted.\n",
        "\n",
        "controller.submit()\n"
      ]
    },
    {
      "cell_type": "code",
      "execution_count": null,
      "metadata": {
        "id": "10AMuq5PmiNK"
      },
      "outputs": [],
      "source": [
        "controller.submit()"
      ]
    },
    {
      "cell_type": "markdown",
      "source": [
        "Or You Can use the ConcatenateTM"
      ],
      "metadata": {
        "id": "D6XDJNVjz5jW"
      }
    },
    {
      "cell_type": "markdown",
      "source": [
        "# **Option 2 - building an Multi Tape turing machine**:"
      ],
      "metadata": {
        "id": "KMoYovvB9MIb"
      }
    },
    {
      "cell_type": "markdown",
      "source": [
        "You can create multi tape turing machine with the option to call another multi tape turing machine and pass to them some of your tm tapes using MultiTapeTuringMachine, example:\n",
        "\n",
        "If you want to make a turing machine that does the following: copies the first tape to second tape and then call another tm on the second tape that will replace each 1 to 0 and each 0 to 1.\n",
        "\n",
        "Note: output of the TM is the last Tape, Call_Turing_Machine must only receive a MultiTapeTuringMachine Object\n",
        "\n",
        "You can implement that easly using the object MultiTapeTuringMachine:"
      ],
      "metadata": {
        "id": "Yap2X63M9XYh"
      }
    },
    {
      "cell_type": "code",
      "source": [
        "tm1 = MultiTapeTuringMachine(\n",
        "    states={'q0', 'q1', 'q2', 'qa', 'qr'},\n",
        "    input_alphabet={'0', '1', 'X'},\n",
        "    tape_alphabet={'0', '1', 'B', 'X'},\n",
        "    transition_function= {\n",
        "    # (current_state, tape1_symbol, tape2_symbol): (new_state, tape1_new_symbol, tape2_new_symbol, direction1, direction2)\n",
        "    ('q0', '0'): MultiNext('q1', '0', 'L'),\n",
        "    ('q0', '1'): MultiNext('q1',  '1', 'L'),\n",
        "    ('q0', 'B'): MultiNext('q1',  'B', 'L'),\n",
        "    ('q1', '0'): MultiNext('q1', '0', 'L'),\n",
        "    ('q1', '1'): MultiNext('q1',  '1', 'L'),\n",
        "    ('q1', 'X'): MultiNext('qa',  'X', 'R')\n",
        "},\n",
        "    start_state='q0',\n",
        "    accept_state={'qa'},\n",
        "    reject_state={'qr'},\n",
        "    num_tapes=1\n",
        ")\n",
        "\n",
        "tm2 = MultiTapeTuringMachine(\n",
        "    states={'q0', 'q1', 'q2', 'qa', 'qr'},\n",
        "    input_alphabet={'0', '1', 'X'},\n",
        "    tape_alphabet={'0', '1', 'B', 'X'},\n",
        "    transition_function= {\n",
        "    # (current_state, tape1_symbol, tape2_symbol): (new_state, tape1_new_symbol, tape2_new_symbol, direction1, direction2)\n",
        "    ('q0', '0'): MultiNext('q0', '1', 'R'),\n",
        "    ('q0', '1'): MultiNext('q0',  '0', 'R'),\n",
        "    ('q0', 'B'): MultiNext('qa',  'B', 'S')\n",
        "},\n",
        "    start_state='q0',\n",
        "    accept_state={'qa'},\n",
        "    reject_state={'qr'},\n",
        "    num_tapes=1\n",
        ")\n",
        "\n",
        "tm3 = MultiTapeTuringMachine(\n",
        "    states={'qs', 'q0', 'q1', 'q2', 'q3', 'qa', 'qr'},\n",
        "    input_alphabet={'0', '1'},\n",
        "    tape_alphabet={'0', '1', 'B', 'X'},\n",
        "    transition_function= {\n",
        "    # (current_state, tape1_symbol, tape2_symbol): (new_state, tape1_new_symbol, tape2_new_symbol, direction1, direction2)\n",
        "    ('qs', '0', 'B'): MultiNext('q0', '0', 'X', 'S', 'R'),\n",
        "    ('qs', '1', 'B'): MultiNext('q0', '1', 'X', 'S', 'R'),\n",
        "    ('qs', 'B', 'B'): MultiNext('qa', 'B', 'B', 'S', 'S'),\n",
        "\n",
        "    ('q0', '0', 'B'): MultiNext('q1', '0', '0', 'R', 'R'),\n",
        "    ('q0', '1', 'B'): MultiNext('q1', '1', '1', 'R', 'R'),\n",
        "    ('q0', 'B', 'B'): MultiNext('qa', 'B', 'B', 'S', 'S'),\n",
        "\n",
        "    ('q1', '0', 'B'): MultiNext('q1', '0', '0', 'R', 'R'),\n",
        "    ('q1', '1', 'B'): MultiNext('q1', '1', '1', 'R', 'R'),\n",
        "    ('q1', 'B', 'B'): MultiNext('q2', 'B', 'B', 'S', 'S'),\n",
        "    ('q2', 'B', 'B') : Call_Turing_Machine(\"move left on tape 2\", tm1, [1], 'q3', 'qr'),\n",
        "\n",
        "    ('q3', 'B', '0') : Call_Turing_Machine(\"replace 0 and 1\", tm2, [1], 'qa', 'qr'),\n",
        "    ('q3', 'B', '1') : Call_Turing_Machine(\"replace 0 and 1\", tm2, [1], 'qa', 'qr')\n",
        "},\n",
        "    start_state='qs',\n",
        "    accept_state={'qa'},\n",
        "    reject_state={'qr'},\n",
        "    num_tapes=2\n",
        ")\n",
        "\n",
        "controller.update_turing_machine(\"multi\", tm3)\n"
      ],
      "metadata": {
        "id": "YXaV69O49_8r"
      },
      "execution_count": null,
      "outputs": []
    },
    {
      "cell_type": "markdown",
      "source": [
        "## You Can Run, Visualize, and Check your MultiTape TM.\n",
        "\n",
        "Excatly like it was described previously."
      ],
      "metadata": {
        "id": "r7g6Fjcl-bSH"
      }
    },
    {
      "cell_type": "code",
      "source": [
        "inputs = ['1101', '']\n",
        "controller.run_turing_machine(\"multi\", inputs)"
      ],
      "metadata": {
        "id": "NlKKaOMW-XRv"
      },
      "execution_count": null,
      "outputs": []
    },
    {
      "cell_type": "code",
      "source": [
        "controller.run_turing_machine(\"multi\", \"1101\")"
      ],
      "metadata": {
        "id": "DvDdTm_gkK0D"
      },
      "execution_count": null,
      "outputs": []
    },
    {
      "cell_type": "code",
      "source": [
        "controller.visualize(\"multi\", \"1101\")"
      ],
      "metadata": {
        "id": "-k3lAVZDFZGj"
      },
      "execution_count": null,
      "outputs": []
    },
    {
      "cell_type": "code",
      "source": [
        "controller.visualize_step_by_step(\"multi\", \"1101\")"
      ],
      "metadata": {
        "id": "Ic449AjtGV4w"
      },
      "execution_count": null,
      "outputs": []
    },
    {
      "cell_type": "markdown",
      "source": [
        "## You Can Run, also validate your TM based on its output with string -> string function.\n"
      ],
      "metadata": {
        "id": "n46HY9F0GK3K"
      }
    },
    {
      "cell_type": "code",
      "source": [
        "def binReplaceFunc(bin_str):\n",
        "    res = \"\"\n",
        "    if(bin_str == \"\"):\n",
        "        return \"\"\n",
        "    for x in bin_str:\n",
        "        if x == \"1\":\n",
        "            res += '0'\n",
        "        elif x == \"0\":\n",
        "            res += '1'\n",
        "    return res\n",
        "\n",
        "\n",
        "controller.add_challenge('replaceBin', {'0','1'}, \"bin reaplacing 0 to 1 and 1 to 0\", binReplaceFunc, {\"111\"})"
      ],
      "metadata": {
        "id": "gi5wLeh7GYei"
      },
      "execution_count": null,
      "outputs": []
    },
    {
      "cell_type": "markdown",
      "source": [
        "## controller.add_turing_machine(TM_name, TM_object, \"tape\"/\"bool\")\n",
        "Turing Machine output type is \"bool\" by default you can also change it to tape."
      ],
      "metadata": {
        "id": "-memrW9TGxld"
      }
    },
    {
      "cell_type": "code",
      "source": [
        "tm3 = MultiTapeTuringMachine(\n",
        "    states={'q0', 'q1', 'qa', 'qr'},\n",
        "    input_alphabet={'0', '1'},\n",
        "    tape_alphabet={'0', '1', 'B'},\n",
        "    transition_function= {\n",
        "    # (current_state, tape1_symbol, tape2_symbol): (new_state, tape1_new_symbol, tape2_new_symbol, direction1, direction2)\n",
        "    ('q0', '0'): MultiNext('q0', '1', 'R'),\n",
        "    ('q0', '1'): MultiNext('q0',  '0', 'R'),\n",
        "    ('q0', 'B'): MultiNext('qa',  'B', 'L')\n",
        "},\n",
        "    start_state='q0',\n",
        "    accept_state={'qa'},\n",
        "    reject_state={'qr'},\n",
        "    num_tapes=1\n",
        ")\n",
        "\n",
        "controller.add_turing_machine(\"replaceBin\", tm3, \"tape\")"
      ],
      "metadata": {
        "id": "xMRVAYAaGncw"
      },
      "execution_count": null,
      "outputs": []
    },
    {
      "cell_type": "code",
      "source": [
        "controller.run_turing_machine(\"replaceBin\", \"1\")"
      ],
      "metadata": {
        "id": "aYns9QS6Gn4w"
      },
      "execution_count": null,
      "outputs": []
    },
    {
      "cell_type": "code",
      "source": [
        "controller.visualize(\"replaceBin\", [\"111000\"])"
      ],
      "metadata": {
        "id": "Hojw6JmQHSOa"
      },
      "execution_count": null,
      "outputs": []
    },
    {
      "cell_type": "code",
      "source": [
        "controller.validate_turing_machineTA(\"replaceBin\")"
      ],
      "metadata": {
        "collapsed": true,
        "id": "QleOa5iCH3jF"
      },
      "execution_count": null,
      "outputs": []
    }
  ],
  "metadata": {
    "colab": {
      "provenance": []
    },
    "kernelspec": {
      "display_name": "Python 3",
      "name": "python3"
    },
    "language_info": {
      "name": "python"
    }
  },
  "nbformat": 4,
  "nbformat_minor": 0
}