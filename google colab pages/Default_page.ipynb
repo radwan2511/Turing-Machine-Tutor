{
  "cells": [
    {
      "cell_type": "markdown",
      "metadata": {
        "id": "i7DT8Hbic-CM"
      },
      "source": [
        "# **First Install Package From Github**"
      ]
    },
    {
      "cell_type": "code",
      "execution_count": null,
      "metadata": {
        "id": "oEp1yac_dIa4"
      },
      "outputs": [],
      "source": [
        "!pip install \"git+https://github.com/Turing-Machine-Tutor/Turing-Machine-Tutor.git@main\""
      ]
    },
    {
      "cell_type": "markdown",
      "metadata": {
        "id": "gAHmt2TUZQXQ"
      },
      "source": [
        "# **Imports: dont touch**\n"
      ]
    },
    {
      "cell_type": "code",
      "execution_count": null,
      "metadata": {
        "id": "cxy9bqf8ZOnF"
      },
      "outputs": [],
      "source": [
        "from turing_machine_tutor.TuringMachine import TuringMachine\n",
        "from turing_machine_tutor.machine_run_state import Machine_Run_State\n",
        "from turing_machine_tutor.Next import Next\n",
        "from turing_machine_tutor.MultiNext import MultiNext\n",
        "from turing_machine_tutor.Call_Turing_Machine import Call_Turing_Machine\n",
        "from turing_machine_tutor.TuringMachineController import TuringMachineController\n",
        "from turing_machine_tutor.MultiTapeTuringMachine import MultiTapeTuringMachine\n",
        "\n",
        "controller = TuringMachineController()"
      ]
    }
  ],
  "metadata": {
    "colab": {
      "provenance": []
    },
    "kernelspec": {
      "display_name": "Python 3",
      "name": "python3"
    },
    "language_info": {
      "name": "python"
    }
  },
  "nbformat": 4,
  "nbformat_minor": 0
}